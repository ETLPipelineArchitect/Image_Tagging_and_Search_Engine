{
    "cells": [
        {
            "cell_type": "markdown",
            "metadata": {},
            "source": [
                "# Image Tagging Visualization\n",
                "Visualizing the results from the image tagging process."
            ]
        },
        {
            "cell_type": "code",
            "execution_count": 1,
            "metadata": {},
            "outputs": [],
            "source": [
                "import pandas as pd\n",
                "import matplotlib.pyplot as plt\n",
                "\n",
                "# Example Data for Visualization\n",
                "data = {'Image': ['image1.jpg', 'image2.jpg'], 'Tags': [['cat', 'animal'], ['sunset', 'nature']]}\n",
                "df = pd.DataFrame(data)\n",
                "\n",
                "# Plotting\n",
                "df.explode('Tags').groupby('Tags').size().plot(kind='bar', figsize=(10, 6))\n",
                "plt.title('Tag Distribution')\n",
                "plt.xlabel('Tags')\n",
                "plt.ylabel('Frequency')\n",
                "plt.xticks(rotation=45)\n",
                "plt.show()\n"
            ]
        }
    ],
    "metadata": {
        "kernelspec": {
            "display_name": "Python 3",
            "language": "python",
            "name": "python3"
        },
        "language_info": {
            "name": "python",
            "version": "3.8.5",
            "mimetype": "text/x-python",
            "codemirror_mode": {
                "name": "ipython",
                "version": 3
            },
            "pygments_lexer": "ipython3",
            "nbconvert_exporter": "python",
            "file_extension": ".py"
        }
    },
    "nbformat": 4,
    "nbformat_minor": 5
}